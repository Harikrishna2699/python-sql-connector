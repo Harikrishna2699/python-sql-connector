{
 "cells": [
  {
   "cell_type": "code",
   "execution_count": null,
   "metadata": {},
   "outputs": [],
   "source": [
    "#create database"
   ]
  },
  {
   "cell_type": "code",
   "execution_count": null,
   "metadata": {},
   "outputs": [],
   "source": [
    "import mysql.connector\n",
    "conn=mysql.connector.connect(host=\"localhost\",user=\"root\",passwd=\"Hari@2699\")\n",
    "cur=conn.cursor()\n",
    "cur.execute(\"create database sample\")\n",
    "for i in cur:\n",
    "    print(i)"
   ]
  },
  {
   "cell_type": "code",
   "execution_count": null,
   "metadata": {},
   "outputs": [],
   "source": [
    "#show databases "
   ]
  },
  {
   "cell_type": "code",
   "execution_count": null,
   "metadata": {},
   "outputs": [],
   "source": [
    "import mysql.connector\n",
    "conn=mysql.connector.connect(host=\"localhost\",user=\"root\",passwd=\"Hari@2699\")\n",
    "cur=conn.cursor()\n",
    "cur.execute(\"show databases\")\n",
    "for i in cur:\n",
    "    print(i)"
   ]
  },
  {
   "cell_type": "code",
   "execution_count": null,
   "metadata": {},
   "outputs": [],
   "source": [
    "#create table and tablename"
   ]
  },
  {
   "cell_type": "code",
   "execution_count": null,
   "metadata": {},
   "outputs": [],
   "source": [
    "import mysql.connector\n",
    "conn=mysql.connector.connect(host=\"localhost\",user=\"root\",passwd=\"Hari@2699\",database=\"sample\")\n",
    "cur=conn.cursor()\n",
    "cur.execute(\"create table student_details(rollno int not null primary key, sname varchar(20) not null,branch varchar(10) not null)\")\n",
    "conn.close()\n",
    "\n"
   ]
  },
  {
   "cell_type": "code",
   "execution_count": null,
   "metadata": {},
   "outputs": [],
   "source": [
    "#inserting the values into tables"
   ]
  },
  {
   "cell_type": "code",
   "execution_count": null,
   "metadata": {},
   "outputs": [],
   "source": [
    "import mysql.connector\n",
    "conn=mysql.connector.connect(host=\"localhost\",user=\"root\",passwd=\"Hari@2699\",database=\"sample\")\n",
    "cur=conn.cursor()\n",
    "q=\"insert into student_details(rollno,sname,branch)values(%s,%s,%s)\"\n",
    "v=(501,\"krish\",\"cse\")\n",
    "try:\n",
    "    cur.execute(q,v)\n",
    "    conn.commit()\n",
    "except:\n",
    "    conn.rollback()\n",
    "conn.close()"
   ]
  },
  {
   "cell_type": "code",
   "execution_count": null,
   "metadata": {},
   "outputs": [],
   "source": [
    "#inserting the multiple values into the tables"
   ]
  },
  {
   "cell_type": "code",
   "execution_count": null,
   "metadata": {},
   "outputs": [],
   "source": [
    "import mysql.connector\n",
    "conn=mysql.connector.connect(host=\"localhost\",user=\"root\",passwd=\"Hari@2699\",database=\"sample\")\n",
    "cur=conn.cursor()\n",
    "q=\"insert into student_details(rollno,sname,branch)values(%s,%s,%s)\"\n",
    "v=[(502,\"deju\",\"cse\"),(503,\"ashok\",\"cse\"),(504,\"dinesh\",\"cse\"),(505,\"deva\",\"cse\"),(506,\"siva\",\"cse\"),(507,\"harish\",\"cse\")]\n",
    "try:\n",
    "    cur.executemany(q,v)\n",
    "    conn.commit()\n",
    "except:\n",
    "    conn.rollback()\n",
    "conn.close()"
   ]
  },
  {
   "cell_type": "code",
   "execution_count": null,
   "metadata": {},
   "outputs": [],
   "source": []
  }
 ],
 "metadata": {
  "kernelspec": {
   "display_name": "Python 3",
   "language": "python",
   "name": "python3"
  },
  "language_info": {
   "codemirror_mode": {
    "name": "ipython",
    "version": 3
   },
   "file_extension": ".py",
   "mimetype": "text/x-python",
   "name": "python",
   "nbconvert_exporter": "python",
   "pygments_lexer": "ipython3",
   "version": "3.7.4"
  }
 },
 "nbformat": 4,
 "nbformat_minor": 2
}
